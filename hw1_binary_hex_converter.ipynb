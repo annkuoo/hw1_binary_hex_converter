{
 "cells": [
  {
   "cell_type": "code",
   "execution_count": 13,
   "metadata": {},
   "outputs": [],
   "source": [
    "# function for converting decimal to binary\n",
    "def decimal_to_binary(decimal):\n",
    "    binary = \"\"\n",
    "    while decimal > 0:\n",
    "        binary = str(decimal % 2) + binary\n",
    "        decimal //= 2\n",
    "    return binary if binary else \"0\""
   ]
  },
  {
   "cell_type": "code",
   "execution_count": 14,
   "metadata": {},
   "outputs": [],
   "source": [
    "# function for converting decimal to hexadecimal\n",
    "def decimal_to_hexadecimal(decimal):\n",
    "    hexadecimal = \"\"\n",
    "    hex_chars = \"0123456789ABCDEF\"\n",
    "    while decimal > 0:\n",
    "        hexadecimal = hex_chars[decimal % 16] + hexadecimal\n",
    "        decimal //= 16\n",
    "    return hexadecimal if hexadecimal else \"0\""
   ]
  },
  {
   "cell_type": "code",
   "execution_count": 15,
   "metadata": {},
   "outputs": [],
   "source": [
    "def main():\n",
    "    while True:\n",
    "        try:\n",
    "            decimal = int(input(\"Please enter a decimal number (0-255):\"))\n",
    "            if 0 <= decimal <= 255:\n",
    "                binary = decimal_to_binary(decimal)\n",
    "                hexadecimal = decimal_to_hexadecimal(decimal)\n",
    "                print(f\"十進位數字 {decimal} 的二進位表示為: {binary}\")\n",
    "                print(f\"十進位數字 {decimal} 的十六進位表示為: {hexadecimal}\")\n",
    "                break\n",
    "            else:\n",
    "                print(\"The decimal number must be between 0 and 255. Please try again.\")\n",
    "        except ValueError:\n",
    "            print(\"Please enter a decimal number.\")"
   ]
  },
  {
   "cell_type": "code",
   "execution_count": 16,
   "metadata": {},
   "outputs": [
    {
     "name": "stdout",
     "output_type": "stream",
     "text": [
      "十進位數字 255 的二進位表示為: 11111111\n",
      "十進位數字 255 的十六進位表示為: FF\n"
     ]
    }
   ],
   "source": [
    "if __name__ == \"__main__\":\n",
    "    main()"
   ]
  }
 ],
 "metadata": {
  "kernelspec": {
   "display_name": "Python 3",
   "language": "python",
   "name": "python3"
  },
  "language_info": {
   "codemirror_mode": {
    "name": "ipython",
    "version": 3
   },
   "file_extension": ".py",
   "mimetype": "text/x-python",
   "name": "python",
   "nbconvert_exporter": "python",
   "pygments_lexer": "ipython3",
   "version": "3.9.6"
  }
 },
 "nbformat": 4,
 "nbformat_minor": 2
}
